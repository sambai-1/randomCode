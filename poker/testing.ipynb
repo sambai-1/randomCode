{
 "cells": [
  {
   "cell_type": "code",
   "execution_count": null,
   "id": "ade3986d",
   "metadata": {},
   "outputs": [
    {
     "name": "stdout",
     "output_type": "stream",
     "text": [
      "['a', 'awfotyunawft']\n"
     ]
    }
   ],
   "source": [
    "from poker import startGame"
   ]
  },
  {
   "cell_type": "code",
   "execution_count": null,
   "id": "7d01295c",
   "metadata": {},
   "outputs": [],
   "source": []
  }
 ],
 "metadata": {
  "kernelspec": {
   "display_name": "base",
   "language": "python",
   "name": "python3"
  },
  "language_info": {
   "codemirror_mode": {
    "name": "ipython",
    "version": 3
   },
   "file_extension": ".py",
   "mimetype": "text/x-python",
   "name": "python",
   "nbconvert_exporter": "python",
   "pygments_lexer": "ipython3",
   "version": "3.12.7"
  }
 },
 "nbformat": 4,
 "nbformat_minor": 5
}
